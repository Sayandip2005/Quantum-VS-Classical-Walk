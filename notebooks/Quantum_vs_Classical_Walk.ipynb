{
 "cells": [
  {
   "cell_type": "code",
   "execution_count": null,
   "id": "5b1141ba",
   "metadata": {},
   "outputs": [],
   "source": [
    "# 🧩 Classical vs Quantum Random Walk\n",
    "\n",
    "This notebook demonstrates the difference between **Classical** and **Quantum Random Walks** using `Qiskit` and `NumPy`.\n",
    "\n",
    "We compare how the probability distribution evolves in both cases — showing how **quantum superposition** and **interference** lead to faster spreading and asymmetry compared to the **classical random walk’s** symmetric binomial distribution.\n"
   ]
  },
  {
   "cell_type": "code",
   "execution_count": 7,
   "id": "2c0b9ea3",
   "metadata": {},
   "outputs": [
    {
     "ename": "ModuleNotFoundError",
     "evalue": "No module named 'classical_walk'",
     "output_type": "error",
     "traceback": [
      "\u001b[1;31m---------------------------------------------------------------------------\u001b[0m",
      "\u001b[1;31mModuleNotFoundError\u001b[0m                       Traceback (most recent call last)",
      "Cell \u001b[1;32mIn[7], line 5\u001b[0m\n\u001b[0;32m      3\u001b[0m \u001b[38;5;28;01mfrom\u001b[39;00m\u001b[38;5;250m \u001b[39m\u001b[38;5;21;01mqiskit\u001b[39;00m\u001b[38;5;250m \u001b[39m\u001b[38;5;28;01mimport\u001b[39;00m QuantumCircuit\n\u001b[0;32m      4\u001b[0m \u001b[38;5;28;01mfrom\u001b[39;00m\u001b[38;5;250m \u001b[39m\u001b[38;5;21;01mqiskit_aer\u001b[39;00m\u001b[38;5;250m \u001b[39m\u001b[38;5;28;01mimport\u001b[39;00m Aer\n\u001b[1;32m----> 5\u001b[0m \u001b[38;5;28;01mfrom\u001b[39;00m\u001b[38;5;250m \u001b[39m\u001b[38;5;21;01mclassical_walk\u001b[39;00m\u001b[38;5;250m \u001b[39m\u001b[38;5;28;01mimport\u001b[39;00m simulate_classical_walk\n\u001b[0;32m      6\u001b[0m \u001b[38;5;28;01mfrom\u001b[39;00m\u001b[38;5;250m \u001b[39m\u001b[38;5;21;01mquantum_walk\u001b[39;00m\u001b[38;5;250m \u001b[39m\u001b[38;5;28;01mimport\u001b[39;00m build_quantum_walk_circuit, simulate_quantum_walk\n",
      "\u001b[1;31mModuleNotFoundError\u001b[0m: No module named 'classical_walk'"
     ]
    }
   ],
   "source": [
    "import numpy as np\n",
    "import matplotlib.pyplot as plt\n",
    "from qiskit import QuantumCircuit\n",
    "from qiskit_aer import Aer\n",
    "from classical_walk import simulate_classical_walk\n",
    "from quantum_walk import build_quantum_walk_circuit, simulate_quantum_walk\n"
   ]
  },
  {
   "cell_type": "code",
   "execution_count": 3,
   "id": "a9764d37",
   "metadata": {},
   "outputs": [],
   "source": [
    "steps = 4      # number of walk steps\n",
    "trials = 1024  # number of runs / shots\n"
   ]
  },
  {
   "cell_type": "code",
   "execution_count": 6,
   "id": "6c477525",
   "metadata": {},
   "outputs": [
    {
     "ename": "NameError",
     "evalue": "name 'simulate_classical_walk' is not defined",
     "output_type": "error",
     "traceback": [
      "\u001b[1;31m---------------------------------------------------------------------------\u001b[0m",
      "\u001b[1;31mNameError\u001b[0m                                 Traceback (most recent call last)",
      "Cell \u001b[1;32mIn[6], line 1\u001b[0m\n\u001b[1;32m----> 1\u001b[0m classical_positions, classical_probabilities \u001b[38;5;241m=\u001b[39m \u001b[43msimulate_classical_walk\u001b[49m(steps, trials)\n\u001b[0;32m      3\u001b[0m plt\u001b[38;5;241m.\u001b[39mfigure(figsize\u001b[38;5;241m=\u001b[39m(\u001b[38;5;241m8\u001b[39m,\u001b[38;5;241m5\u001b[39m))\n\u001b[0;32m      4\u001b[0m plt\u001b[38;5;241m.\u001b[39mbar(classical_positions, classical_probabilities, color\u001b[38;5;241m=\u001b[39m\u001b[38;5;124m'\u001b[39m\u001b[38;5;124mskyblue\u001b[39m\u001b[38;5;124m'\u001b[39m, label\u001b[38;5;241m=\u001b[39m\u001b[38;5;124m'\u001b[39m\u001b[38;5;124mClassical Walk\u001b[39m\u001b[38;5;124m'\u001b[39m)\n",
      "\u001b[1;31mNameError\u001b[0m: name 'simulate_classical_walk' is not defined"
     ]
    }
   ],
   "source": [
    "classical_positions, classical_probabilities = simulate_classical_walk(steps, trials)\n",
    "\n",
    "plt.figure(figsize=(8,5))\n",
    "plt.bar(classical_positions, classical_probabilities, color='skyblue', label='Classical Walk')\n",
    "plt.xlabel(\"Position\")\n",
    "plt.ylabel(\"Probability\")\n",
    "plt.title(\"Classical Random Walk Probability Distribution\")\n",
    "plt.legend()\n",
    "plt.show()\n"
   ]
  },
  {
   "cell_type": "code",
   "execution_count": null,
   "id": "c61403a0",
   "metadata": {},
   "outputs": [],
   "source": [
    "quantum_circuit = build_quantum_walk_circuit(steps)\n",
    "num_position_qubits_qc = quantum_circuit.num_qubits - 1\n",
    "\n",
    "quantum_positions, quantum_probabilities = simulate_quantum_walk(\n",
    "    quantum_circuit, trials, num_position_qubits_qc\n",
    ")\n",
    "\n",
    "plt.figure(figsize=(8,5))\n",
    "plt.bar(quantum_positions, quantum_probabilities, color='lightcoral', label='Quantum Walk')\n",
    "plt.xlabel(\"Position\")\n",
    "plt.ylabel(\"Probability\")\n",
    "plt.title(\"Quantum Random Walk Probability Distribution\")\n",
    "plt.legend()\n",
    "plt.show()\n"
   ]
  },
  {
   "cell_type": "code",
   "execution_count": null,
   "id": "4f3547dc",
   "metadata": {},
   "outputs": [],
   "source": [
    "plt.figure(figsize=(10,6))\n",
    "plt.bar(classical_positions - 0.2, classical_probabilities, width=0.4,\n",
    "        label='Classical Walk', alpha=0.7)\n",
    "plt.bar(quantum_positions + 0.2, quantum_probabilities, width=0.4,\n",
    "        label='Quantum Walk', alpha=0.7)\n",
    "plt.xlabel(\"Position\")\n",
    "plt.ylabel(\"Probability\")\n",
    "plt.title(\"Classical vs Quantum Random Walk Probability Distributions\")\n",
    "plt.legend()\n",
    "plt.show()\n"
   ]
  },
  {
   "cell_type": "code",
   "execution_count": null,
   "id": "56821e46",
   "metadata": {},
   "outputs": [],
   "source": [
    "import time, os\n",
    "\n",
    "os.makedirs(\"results/plots\", exist_ok=True)\n",
    "timestamp = int(time.time())\n",
    "save_path = f\"results/plots/comparison_plot_steps_{steps}_{timestamp}.png\"\n",
    "\n",
    "plt.figure(figsize=(10,6))\n",
    "plt.bar(classical_positions - 0.2, classical_probabilities, width=0.4,\n",
    "        label='Classical Walk', alpha=0.7)\n",
    "plt.bar(quantum_positions + 0.2, quantum_probabilities, width=0.4,\n",
    "        label='Quantum Walk', alpha=0.7)\n",
    "plt.xlabel(\"Position\")\n",
    "plt.ylabel(\"Probability\")\n",
    "plt.title(\"Classical vs Quantum Random Walk Probability Distributions\")\n",
    "plt.legend()\n",
    "plt.savefig(save_path)\n",
    "plt.show()\n",
    "\n",
    "print(f\"✅ Plot saved successfully at: {save_path}\")\n"
   ]
  },
  {
   "cell_type": "code",
   "execution_count": null,
   "id": "b30ea78e",
   "metadata": {},
   "outputs": [],
   "source": [
    "### Key Observations:\n",
    "- The **classical walk** produces a **symmetric** distribution centered around zero.\n",
    "- The **quantum walk** shows **asymmetric peaks** due to interference effects.\n",
    "- Quantum walks spread **faster** — a hint of their potential for **quantum speedups** in algorithms.\n",
    "\n",
    "This experiment demonstrates one of the most intuitive differences between classical and quantum computation.\n"
   ]
  }
 ],
 "metadata": {
  "kernelspec": {
   "display_name": "Python 3",
   "language": "python",
   "name": "python3"
  },
  "language_info": {
   "codemirror_mode": {
    "name": "ipython",
    "version": 3
   },
   "file_extension": ".py",
   "mimetype": "text/x-python",
   "name": "python",
   "nbconvert_exporter": "python",
   "pygments_lexer": "ipython3",
   "version": "3.10.11"
  }
 },
 "nbformat": 4,
 "nbformat_minor": 5
}
